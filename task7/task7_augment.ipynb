{
 "cells": [
  {
   "cell_type": "code",
   "execution_count": 1,
   "id": "7b3bd40c",
   "metadata": {},
   "outputs": [],
   "source": [
    "import Augmentor"
   ]
  },
  {
   "cell_type": "code",
   "execution_count": 2,
   "id": "e5825ef8",
   "metadata": {
    "pycharm": {
     "name": "#%%\n"
    }
   },
   "outputs": [],
   "source": [
    "animals = [\n",
    "    \"puma-concolor\",\n",
    "    \"vulpes-vulpes\"\n",
    "]"
   ]
  },
  {
   "cell_type": "code",
   "execution_count": 3,
   "id": "2dca3509",
   "metadata": {
    "pycharm": {
     "name": "#%%\n"
    }
   },
   "outputs": [],
   "source": [
    "for path in animals:\n",
    "    full_path = 'images/' + path\n",
    "    p = Augmentor.Pipeline(source_directory=full_path, output_directory=u'res_images', save_format='jpg')\n",
    "    p.flip_left_right(probability=0.4)\n",
    "    p.random_brightness(probability=0.6, min_factor=0.7, max_factor=1.4)\n",
    "    p.random_contrast(probability=0.4, min_factor=0.4, max_factor=1)\n",
    "    p.random_distortion(probability=0.5, grid_width=7, grid_height=7, magnitude=3)\n",
    "    p.random_color(probability=0.4, min_factor=0.4, max_factor=1)\n",
    "    p.rotate(probability=0.1, max_left_rotation=25, max_right_rotation=25)\n",
    "    p.zoom(probability=0.2, min_factor=1.1, max_factor=1.5)\n",
    "    p.sample(400)\n"
   ]
  }
 ],
 "metadata": {
  "kernelspec": {
   "display_name": "Python 3 (ipykernel)",
   "language": "python",
   "name": "python3"
  },
  "language_info": {
   "codemirror_mode": {
    "name": "ipython",
    "version": 3
   },
   "file_extension": ".py",
   "mimetype": "text/x-python",
   "name": "python",
   "nbconvert_exporter": "python",
   "pygments_lexer": "ipython3",
   "version": "3.9.7"
  }
 },
 "nbformat": 4,
 "nbformat_minor": 5
}